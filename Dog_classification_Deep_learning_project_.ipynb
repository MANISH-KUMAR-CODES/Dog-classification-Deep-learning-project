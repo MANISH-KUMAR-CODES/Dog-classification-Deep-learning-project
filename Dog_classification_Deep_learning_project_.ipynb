{
  "nbformat": 4,
  "nbformat_minor": 0,
  "metadata": {
    "colab": {
      "provenance": [],
      "mount_file_id": "1LiN-CiRyFUhjfcBDoW4WVgWLBuVmAKeF",
      "authorship_tag": "ABX9TyPpYt4oJ+VKJjFiXU09UJIb",
      "include_colab_link": true
    },
    "kernelspec": {
      "name": "python3",
      "display_name": "Python 3"
    },
    "language_info": {
      "name": "python"
    },
    "accelerator": "GPU"
  },
  "cells": [
    {
      "cell_type": "markdown",
      "metadata": {
        "id": "view-in-github",
        "colab_type": "text"
      },
      "source": [
        "<a href=\"https://colab.research.google.com/github/MANISH-KUMAR-CODES/Dog-classification-Deep-learning-project/blob/main/Dog_classification_Deep_learning_project_.ipynb\" target=\"_parent\"><img src=\"https://colab.research.google.com/assets/colab-badge.svg\" alt=\"Open In Colab\"/></a>"
      ]
    },
    {
      "cell_type": "markdown",
      "source": [
        "## End to End Multi-class Dog breed Identification\n",
        "\n",
        "This notebook builds an end to end multi-class image classifier using\n",
        "Tensorflow 2.0 and Tensorflow Hub\n",
        "\n",
        "## 1.Problem\n",
        "\n",
        "Identifying the breed of the dog given a image of dog.\n",
        "\n",
        "When i am sitting in a cafe and i took a photo of a dog, then i want to know what breed of dog it is.\n",
        "\n",
        "## 2.Data\n",
        "\n",
        "The data we're using is from kaggel dog breed identification competetion.\n",
        "https://www.kaggle.com/competitions/dog-breed-identification/overview\n",
        "\n",
        "## 3.Evaluation\n",
        "\n",
        "The evaluation is a file with prediction probabilities of each dog breed of  each test image\n",
        "https://www.kaggle.com/competitions/dog-breed-identification/overview/evaluation\n",
        "\n",
        "## 4.Features.\n",
        "\n",
        "Some information abouit the data:\n",
        "* we're dealing with images ( unstrctured data) so its probably best use deep learning and transfer learning.\n",
        "* There are 120 breed of dog( this means there are 120 different classes).\n",
        "* There are around 10000+ images in the trainning set.( these images have labes)\n",
        "* There are around 10000+ images in the test set.( these images dont have labels,as we want to predict them)"
      ],
      "metadata": {
        "id": "KasvXetX98ca"
      }
    },
    {
      "cell_type": "markdown",
      "source": [
        "## Get our workflow ready"
      ],
      "metadata": {
        "id": "2-UJ0KtDC6GD"
      }
    },
    {
      "cell_type": "code",
      "source": [
        "# Import tensorflow into collab\n",
        "# Import necessary tools\n",
        "import tensorflow as tf\n",
        "import tensorflow_hub as hub\n",
        "print(\"the tensorflow version is :\",tf.__version__)\n",
        "print(\"the tensorflowhub version is :\",hub.__version__)"
      ],
      "metadata": {
        "colab": {
          "base_uri": "https://localhost:8080/"
        },
        "id": "DZgiMAr2Cqhu",
        "outputId": "c19e47ee-5ef6-4414-ce81-70c0642f8d6c"
      },
      "execution_count": 11,
      "outputs": [
        {
          "output_type": "stream",
          "name": "stdout",
          "text": [
            "the tensorflow version is : 2.8.2\n",
            "the tensorflowhub version is : 0.12.0\n"
          ]
        }
      ]
    }
  ]
}